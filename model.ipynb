{
 "cells": [
  {
   "cell_type": "code",
   "execution_count": 1,
   "metadata": {},
   "outputs": [
    {
     "name": "stderr",
     "output_type": "stream",
     "text": [
      "Using TensorFlow backend.\n"
     ]
    }
   ],
   "source": [
    "from pathlib import Path\n",
    "import csv\n",
    "import numpy as np\n",
    "import cv2\n",
    "import sklearn\n",
    "from sklearn.model_selection import train_test_split\n",
    "from keras.models import Sequential\n",
    "from keras.layers.core import Dense,Flatten\n",
    "from keras.layers.convolutional import Convolution2D"
   ]
  },
  {
   "cell_type": "code",
   "execution_count": 2,
   "metadata": {},
   "outputs": [
    {
     "name": "stdout",
     "output_type": "stream",
     "text": [
      "['D:\\\\Makehathon\\\\plantvillage_deeplearning_paper_dataset\\\\color\\\\Apple_Frogeye_Spot\\\\00e909aa-e3ae-4558-9961-336bb0f35db3___JR_FrgE.S 8593.JPG', 22]\n"
     ]
    }
   ],
   "source": [
    "data = []\n",
    "with open('Labels.csv') as csv_file:\n",
    "    csv_reader = csv.reader(csv_file, delimiter=',')\n",
    "    for row in csv_reader:\n",
    "          data.append([row[0],int(row[-1])])\n",
    "print(data[1])"
   ]
  },
  {
   "cell_type": "code",
   "execution_count": 3,
   "metadata": {},
   "outputs": [],
   "source": [
    "# sklearn.utils.shuffle(data)\n",
    "train_samples, validation_samples = train_test_split(data, test_size=0.2)"
   ]
  },
  {
   "cell_type": "code",
   "execution_count": 4,
   "metadata": {},
   "outputs": [
    {
     "name": "stdout",
     "output_type": "stream",
     "text": [
      "52630\n"
     ]
    }
   ],
   "source": [
    "print(len(data))\n",
    "dict = {1:\"Apple_scab\",2:\"Black_rot\",3:\"Cedar_apple_rust\",4:\"healthy\",5:\"Powdery_mildew\",6:\"Cercospora_leaf_spot Gray_leaf_spot\",7:\"Common_rust_\",8:\"Northern_Leaf_Blight\",9:\"Esca_Black_Measles\",10:\"Leaf_blight_Isariopsis_Leaf_Spot\",11:\"Haunglongbing_Citrus_greening\",12:\"Bacterial_spot\",13:\"Early_blight\",14:\"Late_blight\",15:\"Leaf_scorch\",16:\"Leaf_Mold\",17:\"Septoria_leaf_spot\",18:\"Spider_mites Two-spotted_spider_mite\",19:\"Target_Spot\",20:\"Tomato_mosaic_virus\",21:\"Tomato_Yellow_Leaf_Curl_Virus\",22:\"Apple_Frogeye_Spot\"}"
   ]
  },
  {
   "cell_type": "code",
   "execution_count": 5,
   "metadata": {},
   "outputs": [],
   "source": [
    "def preprocess(image_list):\n",
    "    not_match = []\n",
    "    images=[]\n",
    "    labels=[]\n",
    "    for image_lable in image_list:                  \n",
    "        image=cv2.imread(image_lable[0])\n",
    "        image=cv2.cvtColor(image, cv2.COLOR_BGR2RGB)\n",
    "        image = cv2.resize(image, (32, 32))\n",
    "        images.append(image)\n",
    "        labels.append(image_lable[1])\n",
    "    \n",
    "    return images,labels"
   ]
  },
  {
   "cell_type": "code",
   "execution_count": 6,
   "metadata": {},
   "outputs": [],
   "source": [
    "def generator(samples, batch_size=32):\n",
    "    num_samples = len(samples)\n",
    "    while 1:\n",
    "        sklearn.utils.shuffle(samples)\n",
    "        for offset in range(0, num_samples, batch_size):\n",
    "            batch_images,batch_lables= preprocess(samples[offset:offset+batch_size])\n",
    "            x_train=np.asfarray(batch_images)\n",
    "            y_train=np.asfarray(batch_lables)\n",
    "            yield x_train, y_train"
   ]
  },
  {
   "cell_type": "code",
   "execution_count": null,
   "metadata": {},
   "outputs": [
    {
     "name": "stderr",
     "output_type": "stream",
     "text": [
      "C:\\Users\\aditya.gangadhare\\AppData\\Local\\Continuum\\miniconda3\\envs\\spritex\\lib\\site-packages\\ipykernel_launcher.py:7: UserWarning: Update your `Conv2D` call to the Keras 2 API: `Conv2D(24, (5, 5), activation=\"relu\", input_shape=(32, 32, 3..., strides=(2, 2))`\n",
      "  import sys\n",
      "C:\\Users\\aditya.gangadhare\\AppData\\Local\\Continuum\\miniconda3\\envs\\spritex\\lib\\site-packages\\ipykernel_launcher.py:8: UserWarning: Update your `Conv2D` call to the Keras 2 API: `Conv2D(36, (5, 5), activation=\"relu\", strides=(2, 2))`\n",
      "  \n",
      "C:\\Users\\aditya.gangadhare\\AppData\\Local\\Continuum\\miniconda3\\envs\\spritex\\lib\\site-packages\\ipykernel_launcher.py:9: UserWarning: Update your `Conv2D` call to the Keras 2 API: `Conv2D(48, (5, 5), activation=\"relu\", strides=(2, 2))`\n",
      "  if __name__ == '__main__':\n",
      "C:\\Users\\aditya.gangadhare\\AppData\\Local\\Continuum\\miniconda3\\envs\\spritex\\lib\\site-packages\\ipykernel_launcher.py:15: UserWarning: The semantics of the Keras 2 argument `steps_per_epoch` is not the same as the Keras 1 argument `samples_per_epoch`. `steps_per_epoch` is the number of batches to draw from the generator at each epoch. Basically steps_per_epoch = samples_per_epoch/batch_size. Similarly `nb_val_samples`->`validation_steps` and `val_samples`->`steps` arguments have changed. Update your method calls accordingly.\n",
      "  from ipykernel import kernelapp as app\n",
      "C:\\Users\\aditya.gangadhare\\AppData\\Local\\Continuum\\miniconda3\\envs\\spritex\\lib\\site-packages\\ipykernel_launcher.py:15: UserWarning: Update your `fit_generator` call to the Keras 2 API: `fit_generator(<generator..., validation_data=<generator..., steps_per_epoch=252624, epochs=2, validation_steps=10526)`\n",
      "  from ipykernel import kernelapp as app\n"
     ]
    },
    {
     "name": "stdout",
     "output_type": "stream",
     "text": [
      "Epoch 1/2\n",
      "  6531/252624 [..............................] - ETA: 39:29:22 - loss: 23.6451"
     ]
    }
   ],
   "source": [
    "train_generator = generator(train_samples, batch_size=32)\n",
    "validation_generator = generator(validation_samples, batch_size=32)\n",
    "\n",
    "\"\"\"Model\"\"\"\n",
    "\n",
    "model = Sequential()\n",
    "model.add(Convolution2D(24, 5, 5,subsample=(2,2),activation=\"relu\",input_shape=(32,32,3)))\n",
    "model.add(Convolution2D(36, 5, 5,subsample=(2,2),activation='relu'))\n",
    "model.add(Convolution2D(48, 5, 5,subsample=(2,2),activation='relu'))\n",
    "model.add(Flatten())\n",
    "model.add(Dense(50))\n",
    "model.add(Dense(10))\n",
    "model.add(Dense(1))\n",
    "model.compile(loss='mse',optimizer='adam')\n",
    "model.fit_generator(train_generator, samples_per_epoch=len(train_samples)*6, validation_data=validation_generator, nb_val_samples=len(validation_samples), nb_epoch=2)\n",
    "model.save('model.h5')"
   ]
  },
  {
   "cell_type": "code",
   "execution_count": null,
   "metadata": {},
   "outputs": [],
   "source": [
    "print(dict[1])"
   ]
  },
  {
   "cell_type": "code",
   "execution_count": null,
   "metadata": {},
   "outputs": [],
   "source": [
    "for no, disease in dict.items():\n",
    "    if disease == \"Black rot\":\n",
    "        print(no)"
   ]
  },
  {
   "cell_type": "code",
   "execution_count": null,
   "metadata": {},
   "outputs": [],
   "source": []
  }
 ],
 "metadata": {
  "kernelspec": {
   "display_name": "Python [default]",
   "language": "python",
   "name": "python3"
  },
  "language_info": {
   "codemirror_mode": {
    "name": "ipython",
    "version": 3
   },
   "file_extension": ".py",
   "mimetype": "text/x-python",
   "name": "python",
   "nbconvert_exporter": "python",
   "pygments_lexer": "ipython3",
   "version": "3.6.6"
  }
 },
 "nbformat": 4,
 "nbformat_minor": 2
}
