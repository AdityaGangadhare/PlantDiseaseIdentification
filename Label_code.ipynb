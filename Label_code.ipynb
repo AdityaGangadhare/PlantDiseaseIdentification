{
 "cells": [
  {
   "cell_type": "code",
   "execution_count": 7,
   "metadata": {},
   "outputs": [],
   "source": [
    "from pathlib import Path\n",
    "import csv\n",
    "count = -1\n",
    "with open('./Labels.csv', 'w',newline='') as csvfile:\n",
    "    filewriter = csv.writer(csvfile, delimiter=',',quotechar='|', quoting=csv.QUOTE_MINIMAL)\n",
    "    for file_path in Path('./PlantVillage-Dataset-master/raw/color').glob('*'):\n",
    "        disease = str(file_path).split(\"___\")[-1]\n",
    "        count+=1\n",
    "        image_name=\"\"\n",
    "        for image_path in Path(file_path).glob('*'):\n",
    "            image_name = str(image_path).split(\"\\\\\")[-1]\n",
    "            #print([image_name, disease,count])\n",
    "            filewriter.writerow([image_path, disease,count])\n",
    "        "
   ]
  },
  {
   "cell_type": "code",
   "execution_count": null,
   "metadata": {},
   "outputs": [],
   "source": []
  },
  {
   "cell_type": "code",
   "execution_count": null,
   "metadata": {},
   "outputs": [],
   "source": []
  }
 ],
 "metadata": {
  "kernelspec": {
   "display_name": "Python 3",
   "language": "python",
   "name": "python3"
  },
  "language_info": {
   "codemirror_mode": {
    "name": "ipython",
    "version": 3
   },
   "file_extension": ".py",
   "mimetype": "text/x-python",
   "name": "python",
   "nbconvert_exporter": "python",
   "pygments_lexer": "ipython3",
   "version": "3.6.2"
  }
 },
 "nbformat": 4,
 "nbformat_minor": 2
}
