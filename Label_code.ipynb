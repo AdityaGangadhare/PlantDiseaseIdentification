{
 "cells": [
  {
   "cell_type": "code",
   "execution_count": 12,
   "metadata": {},
   "outputs": [],
   "source": [
    "from pathlib import Path\n",
    "import csv\n",
    "\n",
    "\n",
    "with open('D:\\Plant_dataset\\Code\\Labels.csv', 'w',newline='') as csvfile:\n",
    "    filewriter = csv.writer(csvfile, delimiter=',',quotechar='|', quoting=csv.QUOTE_MINIMAL)\n",
    "    for file_path in Path('D:\\Plant_dataset\\Code\\Color').glob('*'):\n",
    "        disease = str(file_path).split(\"___\")[-1]\n",
    "        image_name=\"\"\n",
    "        for image_path in Path(file_path).glob('*'):\n",
    "            image_name = str(image_path).split(\"\\\\\")[-1]\n",
    "            filewriter.writerow([image_name, disease])\n",
    "        "
   ]
  },
  {
   "cell_type": "code",
   "execution_count": 10,
   "metadata": {},
   "outputs": [
    {
     "name": "stdout",
     "output_type": "stream",
     "text": [
      "7000\n"
     ]
    }
   ],
   "source": [
    "from pathlib import Path\n",
    "import csv\n",
    "\n",
    "data=[]\n",
    "with open('./new_lables.csv') as csv_file:\n",
    "    csv_reader = csv.reader(csv_file, delimiter=',')\n",
    "    line_count = 0\n",
    "    count=0\n",
    "    lable=''\n",
    "    for row in csv_reader:\n",
    "        if count < 200:\n",
    "            data.append(row)\n",
    "            count+=1\n",
    "            lable = row[-1]\n",
    "        else:\n",
    "            pass\n",
    "        \n",
    "        if lable != row[-1]:\n",
    "            count = 0\n",
    "        \n",
    "#         print(\"lable\",lable)\n",
    "#         print(\"row[-1]\",row[-1])\n",
    "print(len(data))\n",
    "with open('./Subset.csv', 'w',newline='') as csvfile:\n",
    "    filewriter = csv.writer(csvfile, delimiter=',',quotechar='|', quoting=csv.QUOTE_MINIMAL)\n",
    "    for row in data:\n",
    "        filewriter.writerow(row)\n",
    "# with open('D:\\Plant_dataset\\Code\\new_lables.csv', 'w',newline='') as csvfile:\n",
    "    "
   ]
  },
  {
   "cell_type": "code",
   "execution_count": null,
   "metadata": {},
   "outputs": [],
   "source": []
  }
 ],
 "metadata": {
  "kernelspec": {
   "display_name": "Python 3",
   "language": "python",
   "name": "python3"
  },
  "language_info": {
   "codemirror_mode": {
    "name": "ipython",
    "version": 3
   },
   "file_extension": ".py",
   "mimetype": "text/x-python",
   "name": "python",
   "nbconvert_exporter": "python",
   "pygments_lexer": "ipython3",
   "version": "3.6.6"
  }
 },
 "nbformat": 4,
 "nbformat_minor": 2
}
